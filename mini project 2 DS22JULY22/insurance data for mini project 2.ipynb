{
 "cells": [
  {
   "cell_type": "markdown",
   "id": "a9cbe295",
   "metadata": {},
   "source": [
    "# -------------------------------------MINI PROJECT NO. 2---------------------------------------"
   ]
  },
  {
   "cell_type": "markdown",
   "id": "9d0ab4d4",
   "metadata": {},
   "source": [
    "## --------------------------Modeling using basic Supervised Learning Method--------------------------"
   ]
  },
  {
   "cell_type": "markdown",
   "id": "30b2162d",
   "metadata": {},
   "source": [
    "# IMPORTING LIBRERIES"
   ]
  },
  {
   "cell_type": "code",
   "execution_count": 141,
   "id": "df62f946",
   "metadata": {},
   "outputs": [],
   "source": [
    "import numpy as np\n",
    "import pandas as pd\n",
    "pd.set_option('mode.chained_assignment',None)\n",
    "pd.set_option('display.max_colwidth',-1)\n",
    "pd.options.display.max_columns=50\n",
    "\n",
    "import warnings\n",
    "warnings.filterwarnings('ignore')\n",
    "\n",
    "import matplotlib.pyplot as plt\n",
    "%matplotlib inline"
   ]
  },
  {
   "cell_type": "code",
   "execution_count": 142,
   "id": "9f92c0f4",
   "metadata": {},
   "outputs": [],
   "source": [
    "import seaborn as sns\n",
    "sns.set(style='whitegrid',font_scale=1.3,color_codes=True)"
   ]
  },
  {
   "cell_type": "code",
   "execution_count": 143,
   "id": "6977a7d0",
   "metadata": {},
   "outputs": [
    {
     "name": "stdout",
     "output_type": "stream",
     "text": [
      "Requirement already satisfied: plotly in c:\\users\\musab\\anaconda3\\lib\\site-packages (5.9.0)\n",
      "Requirement already satisfied: tenacity>=6.2.0 in c:\\users\\musab\\anaconda3\\lib\\site-packages (from plotly) (8.0.1)\n",
      "Note: you may need to restart the kernel to use updated packages.\n"
     ]
    }
   ],
   "source": [
    "pip install plotly \n"
   ]
  },
  {
   "cell_type": "code",
   "execution_count": 144,
   "id": "153bb231",
   "metadata": {},
   "outputs": [
    {
     "name": "stdout",
     "output_type": "stream",
     "text": [
      "Requirement already satisfied: sklearn in c:\\users\\musab\\anaconda3\\lib\\site-packages (0.0.post1)\n",
      "Note: you may need to restart the kernel to use updated packages.\n"
     ]
    }
   ],
   "source": [
    "pip install sklearn"
   ]
  },
  {
   "cell_type": "code",
   "execution_count": 145,
   "id": "913f2563",
   "metadata": {},
   "outputs": [
    {
     "name": "stdout",
     "output_type": "stream",
     "text": [
      "Requirement already satisfied: chart--studio in c:\\users\\musab\\anaconda3\\lib\\site-packages (1.1.0)\n",
      "Requirement already satisfied: retrying>=1.3.3 in c:\\users\\musab\\anaconda3\\lib\\site-packages (from chart--studio) (1.3.4)\n",
      "Requirement already satisfied: plotly in c:\\users\\musab\\anaconda3\\lib\\site-packages (from chart--studio) (5.9.0)\n",
      "Requirement already satisfied: six in c:\\users\\musab\\anaconda3\\lib\\site-packages (from chart--studio) (1.16.0)\n",
      "Requirement already satisfied: requests in c:\\users\\musab\\anaconda3\\lib\\site-packages (from chart--studio) (2.28.1)\n",
      "Requirement already satisfied: tenacity>=6.2.0 in c:\\users\\musab\\anaconda3\\lib\\site-packages (from plotly->chart--studio) (8.0.1)\n",
      "Requirement already satisfied: certifi>=2017.4.17 in c:\\users\\musab\\anaconda3\\lib\\site-packages (from requests->chart--studio) (2022.9.14)\n",
      "Requirement already satisfied: idna<4,>=2.5 in c:\\users\\musab\\anaconda3\\lib\\site-packages (from requests->chart--studio) (3.3)\n",
      "Requirement already satisfied: charset-normalizer<3,>=2 in c:\\users\\musab\\anaconda3\\lib\\site-packages (from requests->chart--studio) (2.0.4)\n",
      "Requirement already satisfied: urllib3<1.27,>=1.21.1 in c:\\users\\musab\\anaconda3\\lib\\site-packages (from requests->chart--studio) (1.26.11)\n",
      "Note: you may need to restart the kernel to use updated packages.\n"
     ]
    }
   ],
   "source": [
    "pip install chart--studio"
   ]
  },
  {
   "cell_type": "code",
   "execution_count": 146,
   "id": "17fc685c",
   "metadata": {},
   "outputs": [
    {
     "data": {
      "text/html": [
       "        <script type=\"text/javascript\">\n",
       "        window.PlotlyConfig = {MathJaxConfig: 'local'};\n",
       "        if (window.MathJax && window.MathJax.Hub && window.MathJax.Hub.Config) {window.MathJax.Hub.Config({SVG: {font: \"STIX-Web\"}});}\n",
       "        if (typeof require !== 'undefined') {\n",
       "        require.undef(\"plotly\");\n",
       "        requirejs.config({\n",
       "            paths: {\n",
       "                'plotly': ['https://cdn.plot.ly/plotly-2.12.1.min']\n",
       "            }\n",
       "        });\n",
       "        require(['plotly'], function(Plotly) {\n",
       "            window._Plotly = Plotly;\n",
       "        });\n",
       "        }\n",
       "        </script>\n",
       "        "
      ]
     },
     "metadata": {},
     "output_type": "display_data"
    }
   ],
   "source": [
    "from plotly.offline import init_notebook_mode,iplot\n",
    "import plotly.graph_objs as go\n",
    "import chart_studio.plotly as py\n",
    "from plotly import tools\n",
    "init_notebook_mode(connected=True)"
   ]
  },
  {
   "cell_type": "markdown",
   "id": "2bdd50f1",
   "metadata": {},
   "source": [
    "# LOADING AND ANALYZING THE DATA"
   ]
  },
  {
   "cell_type": "code",
   "execution_count": 147,
   "id": "10eb7d1c",
   "metadata": {},
   "outputs": [
    {
     "data": {
      "text/html": [
       "<div>\n",
       "<style scoped>\n",
       "    .dataframe tbody tr th:only-of-type {\n",
       "        vertical-align: middle;\n",
       "    }\n",
       "\n",
       "    .dataframe tbody tr th {\n",
       "        vertical-align: top;\n",
       "    }\n",
       "\n",
       "    .dataframe thead th {\n",
       "        text-align: right;\n",
       "    }\n",
       "</style>\n",
       "<table border=\"1\" class=\"dataframe\">\n",
       "  <thead>\n",
       "    <tr style=\"text-align: right;\">\n",
       "      <th></th>\n",
       "      <th>index</th>\n",
       "      <th>age</th>\n",
       "      <th>sex</th>\n",
       "      <th>bmi</th>\n",
       "      <th>children</th>\n",
       "      <th>smoker</th>\n",
       "      <th>region</th>\n",
       "      <th>charges</th>\n",
       "    </tr>\n",
       "  </thead>\n",
       "  <tbody>\n",
       "    <tr>\n",
       "      <th>0</th>\n",
       "      <td>0</td>\n",
       "      <td>19</td>\n",
       "      <td>female</td>\n",
       "      <td>27.900</td>\n",
       "      <td>0</td>\n",
       "      <td>yes</td>\n",
       "      <td>southwest</td>\n",
       "      <td>16884.92400</td>\n",
       "    </tr>\n",
       "    <tr>\n",
       "      <th>1</th>\n",
       "      <td>1</td>\n",
       "      <td>18</td>\n",
       "      <td>male</td>\n",
       "      <td>33.770</td>\n",
       "      <td>1</td>\n",
       "      <td>no</td>\n",
       "      <td>southeast</td>\n",
       "      <td>1725.55230</td>\n",
       "    </tr>\n",
       "    <tr>\n",
       "      <th>2</th>\n",
       "      <td>2</td>\n",
       "      <td>28</td>\n",
       "      <td>male</td>\n",
       "      <td>33.000</td>\n",
       "      <td>3</td>\n",
       "      <td>no</td>\n",
       "      <td>southeast</td>\n",
       "      <td>4449.46200</td>\n",
       "    </tr>\n",
       "    <tr>\n",
       "      <th>3</th>\n",
       "      <td>3</td>\n",
       "      <td>33</td>\n",
       "      <td>male</td>\n",
       "      <td>22.705</td>\n",
       "      <td>0</td>\n",
       "      <td>no</td>\n",
       "      <td>northwest</td>\n",
       "      <td>21984.47061</td>\n",
       "    </tr>\n",
       "    <tr>\n",
       "      <th>4</th>\n",
       "      <td>4</td>\n",
       "      <td>32</td>\n",
       "      <td>male</td>\n",
       "      <td>28.880</td>\n",
       "      <td>0</td>\n",
       "      <td>no</td>\n",
       "      <td>northwest</td>\n",
       "      <td>3866.85520</td>\n",
       "    </tr>\n",
       "  </tbody>\n",
       "</table>\n",
       "</div>"
      ],
      "text/plain": [
       "   index  age     sex     bmi  children smoker     region      charges\n",
       "0  0      19   female  27.900  0         yes    southwest  16884.92400\n",
       "1  1      18   male    33.770  1         no     southeast  1725.55230 \n",
       "2  2      28   male    33.000  3         no     southeast  4449.46200 \n",
       "3  3      33   male    22.705  0         no     northwest  21984.47061\n",
       "4  4      32   male    28.880  0         no     northwest  3866.85520 "
      ]
     },
     "execution_count": 147,
     "metadata": {},
     "output_type": "execute_result"
    }
   ],
   "source": [
    "data=pd.read_csv('insurance.csv')\n",
    "data.head()"
   ]
  },
  {
   "cell_type": "code",
   "execution_count": 148,
   "id": "74541758",
   "metadata": {},
   "outputs": [
    {
     "data": {
      "text/plain": [
       "index       0\n",
       "age         0\n",
       "sex         0\n",
       "bmi         0\n",
       "children    0\n",
       "smoker      0\n",
       "region      0\n",
       "charges     0\n",
       "dtype: int64"
      ]
     },
     "execution_count": 148,
     "metadata": {},
     "output_type": "execute_result"
    }
   ],
   "source": [
    "data.isnull().sum()  #CHECKING FOR NULL VALUE IF ANY"
   ]
  },
  {
   "cell_type": "code",
   "execution_count": 149,
   "id": "36d77a4d",
   "metadata": {},
   "outputs": [
    {
     "name": "stdout",
     "output_type": "stream",
     "text": [
      "<class 'pandas.core.frame.DataFrame'>\n",
      "RangeIndex: 1338 entries, 0 to 1337\n",
      "Data columns (total 8 columns):\n",
      " #   Column    Non-Null Count  Dtype  \n",
      "---  ------    --------------  -----  \n",
      " 0   index     1338 non-null   int64  \n",
      " 1   age       1338 non-null   int64  \n",
      " 2   sex       1338 non-null   object \n",
      " 3   bmi       1338 non-null   float64\n",
      " 4   children  1338 non-null   int64  \n",
      " 5   smoker    1338 non-null   object \n",
      " 6   region    1338 non-null   object \n",
      " 7   charges   1338 non-null   float64\n",
      "dtypes: float64(2), int64(3), object(3)\n",
      "memory usage: 83.8+ KB\n"
     ]
    }
   ],
   "source": [
    "data.info() #GETTING INFO OF THE DATA"
   ]
  },
  {
   "cell_type": "code",
   "execution_count": 150,
   "id": "6a3399ed",
   "metadata": {},
   "outputs": [
    {
     "data": {
      "text/plain": [
       "male      676\n",
       "female    662\n",
       "Name: sex, dtype: int64"
      ]
     },
     "execution_count": 150,
     "metadata": {},
     "output_type": "execute_result"
    }
   ],
   "source": [
    "data['sex'].value_counts()"
   ]
  },
  {
   "cell_type": "code",
   "execution_count": 151,
   "id": "ab931e52",
   "metadata": {},
   "outputs": [
    {
     "data": {
      "text/plain": [
       "array(['yes', 'no'], dtype=object)"
      ]
     },
     "execution_count": 151,
     "metadata": {},
     "output_type": "execute_result"
    }
   ],
   "source": [
    "data['smoker'].unique()"
   ]
  },
  {
   "cell_type": "code",
   "execution_count": 152,
   "id": "c9fd88d8",
   "metadata": {},
   "outputs": [],
   "source": [
    "insuranceData=data  #RENAMING THE DATA "
   ]
  },
  {
   "cell_type": "markdown",
   "id": "c115af1a",
   "metadata": {},
   "source": [
    "# PANDAS PROFILING BEFORE PREPROCESSING"
   ]
  },
  {
   "cell_type": "code",
   "execution_count": 153,
   "id": "c963698e",
   "metadata": {},
   "outputs": [
    {
     "name": "stdout",
     "output_type": "stream",
     "text": [
      "Requirement already satisfied: pandas-profiling in c:\\users\\musab\\anaconda3\\lib\\site-packages (3.6.6)\n",
      "Requirement already satisfied: ydata-profiling in c:\\users\\musab\\anaconda3\\lib\\site-packages (from pandas-profiling) (4.1.0)\n",
      "Requirement already satisfied: imagehash==4.3.1 in c:\\users\\musab\\anaconda3\\lib\\site-packages (from ydata-profiling->pandas-profiling) (4.3.1)\n",
      "Requirement already satisfied: numpy<1.24,>=1.16.0 in c:\\users\\musab\\anaconda3\\lib\\site-packages (from ydata-profiling->pandas-profiling) (1.21.5)\n",
      "Requirement already satisfied: visions[type_image_path]==0.7.5 in c:\\users\\musab\\anaconda3\\lib\\site-packages (from ydata-profiling->pandas-profiling) (0.7.5)\n",
      "Requirement already satisfied: requests<2.29,>=2.24.0 in c:\\users\\musab\\anaconda3\\lib\\site-packages (from ydata-profiling->pandas-profiling) (2.28.1)\n",
      "Requirement already satisfied: typeguard<2.14,>=2.13.2 in c:\\users\\musab\\anaconda3\\lib\\site-packages (from ydata-profiling->pandas-profiling) (2.13.3)\n",
      "Requirement already satisfied: multimethod<1.10,>=1.4 in c:\\users\\musab\\anaconda3\\lib\\site-packages (from ydata-profiling->pandas-profiling) (1.9.1)\n",
      "Requirement already satisfied: matplotlib<3.7,>=3.2 in c:\\users\\musab\\anaconda3\\lib\\site-packages (from ydata-profiling->pandas-profiling) (3.5.2)\n",
      "Requirement already satisfied: jinja2<3.2,>=2.11.1 in c:\\users\\musab\\anaconda3\\lib\\site-packages (from ydata-profiling->pandas-profiling) (2.11.3)\n",
      "Requirement already satisfied: tqdm<4.65,>=4.48.2 in c:\\users\\musab\\anaconda3\\lib\\site-packages (from ydata-profiling->pandas-profiling) (4.64.1)\n",
      "Requirement already satisfied: scipy<1.10,>=1.4.1 in c:\\users\\musab\\anaconda3\\lib\\site-packages (from ydata-profiling->pandas-profiling) (1.9.1)\n",
      "Requirement already satisfied: pydantic<1.11,>=1.8.1 in c:\\users\\musab\\anaconda3\\lib\\site-packages (from ydata-profiling->pandas-profiling) (1.10.6)\n",
      "Requirement already satisfied: seaborn<0.13,>=0.10.1 in c:\\users\\musab\\anaconda3\\lib\\site-packages (from ydata-profiling->pandas-profiling) (0.11.2)\n",
      "Requirement already satisfied: statsmodels<0.14,>=0.13.2 in c:\\users\\musab\\anaconda3\\lib\\site-packages (from ydata-profiling->pandas-profiling) (0.13.2)\n",
      "Requirement already satisfied: htmlmin==0.1.12 in c:\\users\\musab\\anaconda3\\lib\\site-packages (from ydata-profiling->pandas-profiling) (0.1.12)\n",
      "Requirement already satisfied: phik<0.13,>=0.11.1 in c:\\users\\musab\\anaconda3\\lib\\site-packages (from ydata-profiling->pandas-profiling) (0.12.3)\n",
      "Requirement already satisfied: pandas!=1.4.0,<1.6,>1.1 in c:\\users\\musab\\anaconda3\\lib\\site-packages (from ydata-profiling->pandas-profiling) (1.4.4)\n",
      "Requirement already satisfied: PyYAML<6.1,>=5.0.0 in c:\\users\\musab\\anaconda3\\lib\\site-packages (from ydata-profiling->pandas-profiling) (6.0)\n",
      "Requirement already satisfied: PyWavelets in c:\\users\\musab\\anaconda3\\lib\\site-packages (from imagehash==4.3.1->ydata-profiling->pandas-profiling) (1.3.0)\n",
      "Requirement already satisfied: pillow in c:\\users\\musab\\anaconda3\\lib\\site-packages (from imagehash==4.3.1->ydata-profiling->pandas-profiling) (9.2.0)\n",
      "Requirement already satisfied: tangled-up-in-unicode>=0.0.4 in c:\\users\\musab\\anaconda3\\lib\\site-packages (from visions[type_image_path]==0.7.5->ydata-profiling->pandas-profiling) (0.2.0)\n",
      "Requirement already satisfied: networkx>=2.4 in c:\\users\\musab\\anaconda3\\lib\\site-packages (from visions[type_image_path]==0.7.5->ydata-profiling->pandas-profiling) (2.8.4)\n",
      "Requirement already satisfied: attrs>=19.3.0 in c:\\users\\musab\\anaconda3\\lib\\site-packages (from visions[type_image_path]==0.7.5->ydata-profiling->pandas-profiling) (21.4.0)\n",
      "Requirement already satisfied: MarkupSafe>=0.23 in c:\\users\\musab\\anaconda3\\lib\\site-packages (from jinja2<3.2,>=2.11.1->ydata-profiling->pandas-profiling) (2.0.1)\n",
      "Requirement already satisfied: fonttools>=4.22.0 in c:\\users\\musab\\anaconda3\\lib\\site-packages (from matplotlib<3.7,>=3.2->ydata-profiling->pandas-profiling) (4.25.0)\n",
      "Requirement already satisfied: cycler>=0.10 in c:\\users\\musab\\anaconda3\\lib\\site-packages (from matplotlib<3.7,>=3.2->ydata-profiling->pandas-profiling) (0.11.0)\n",
      "Requirement already satisfied: kiwisolver>=1.0.1 in c:\\users\\musab\\anaconda3\\lib\\site-packages (from matplotlib<3.7,>=3.2->ydata-profiling->pandas-profiling) (1.4.2)\n",
      "Requirement already satisfied: packaging>=20.0 in c:\\users\\musab\\anaconda3\\lib\\site-packages (from matplotlib<3.7,>=3.2->ydata-profiling->pandas-profiling) (21.3)\n",
      "Requirement already satisfied: pyparsing>=2.2.1 in c:\\users\\musab\\anaconda3\\lib\\site-packages (from matplotlib<3.7,>=3.2->ydata-profiling->pandas-profiling) (3.0.9)\n",
      "Requirement already satisfied: python-dateutil>=2.7 in c:\\users\\musab\\anaconda3\\lib\\site-packages (from matplotlib<3.7,>=3.2->ydata-profiling->pandas-profiling) (2.8.2)\n",
      "Requirement already satisfied: pytz>=2020.1 in c:\\users\\musab\\anaconda3\\lib\\site-packages (from pandas!=1.4.0,<1.6,>1.1->ydata-profiling->pandas-profiling) (2022.1)\n",
      "Requirement already satisfied: joblib>=0.14.1 in c:\\users\\musab\\anaconda3\\lib\\site-packages (from phik<0.13,>=0.11.1->ydata-profiling->pandas-profiling) (1.1.0)\n",
      "Requirement already satisfied: typing-extensions>=4.2.0 in c:\\users\\musab\\anaconda3\\lib\\site-packages (from pydantic<1.11,>=1.8.1->ydata-profiling->pandas-profiling) (4.3.0)\n",
      "Requirement already satisfied: certifi>=2017.4.17 in c:\\users\\musab\\anaconda3\\lib\\site-packages (from requests<2.29,>=2.24.0->ydata-profiling->pandas-profiling) (2022.9.14)\n",
      "Requirement already satisfied: idna<4,>=2.5 in c:\\users\\musab\\anaconda3\\lib\\site-packages (from requests<2.29,>=2.24.0->ydata-profiling->pandas-profiling) (3.3)\n",
      "Requirement already satisfied: charset-normalizer<3,>=2 in c:\\users\\musab\\anaconda3\\lib\\site-packages (from requests<2.29,>=2.24.0->ydata-profiling->pandas-profiling) (2.0.4)\n",
      "Requirement already satisfied: urllib3<1.27,>=1.21.1 in c:\\users\\musab\\anaconda3\\lib\\site-packages (from requests<2.29,>=2.24.0->ydata-profiling->pandas-profiling) (1.26.11)\n",
      "Requirement already satisfied: patsy>=0.5.2 in c:\\users\\musab\\anaconda3\\lib\\site-packages (from statsmodels<0.14,>=0.13.2->ydata-profiling->pandas-profiling) (0.5.2)\n",
      "Requirement already satisfied: colorama in c:\\users\\musab\\anaconda3\\lib\\site-packages (from tqdm<4.65,>=4.48.2->ydata-profiling->pandas-profiling) (0.4.5)\n",
      "Requirement already satisfied: six in c:\\users\\musab\\anaconda3\\lib\\site-packages (from patsy>=0.5.2->statsmodels<0.14,>=0.13.2->ydata-profiling->pandas-profiling) (1.16.0)\n"
     ]
    }
   ],
   "source": [
    "import pandas\n",
    "!pip install pandas-profiling"
   ]
  },
  {
   "cell_type": "code",
   "execution_count": 154,
   "id": "7521712b",
   "metadata": {},
   "outputs": [
    {
     "data": {
      "text/plain": [
       "'\\nprofile = insuranceData.profile_report(title = \\'pandas profiling report before data preprccessing \\')\\nprofile.to_file (output_file = \"insuranceData_profile_before_preproccessing.html\")\\n\\n'"
      ]
     },
     "execution_count": 154,
     "metadata": {},
     "output_type": "execute_result"
    }
   ],
   "source": [
    "import pandas_profiling\n",
    "'''\n",
    "profile = insuranceData.profile_report(title = 'pandas profiling report before data preprccessing ')\n",
    "profile.to_file (output_file = \"insuranceData_profile_before_preproccessing.html\")\n",
    "\n",
    "'''"
   ]
  },
  {
   "cell_type": "code",
   "execution_count": 155,
   "id": "85f19ace",
   "metadata": {},
   "outputs": [],
   "source": [
    "profile=profile=pandas_profiling.ProfileReport(insuranceData)"
   ]
  },
  {
   "cell_type": "code",
   "execution_count": 156,
   "id": "dc415aed",
   "metadata": {},
   "outputs": [
    {
     "data": {
      "application/vnd.jupyter.widget-view+json": {
       "model_id": "ad5a661f71f3437181bbe87b96037e07",
       "version_major": 2,
       "version_minor": 0
      },
      "text/plain": [
       "Summarize dataset:   0%|          | 0/5 [00:00<?, ?it/s]"
      ]
     },
     "metadata": {},
     "output_type": "display_data"
    },
    {
     "data": {
      "application/vnd.jupyter.widget-view+json": {
       "model_id": "a79fe20c2f0a4189b3181f94d6a91c9d",
       "version_major": 2,
       "version_minor": 0
      },
      "text/plain": [
       "Generate report structure:   0%|          | 0/1 [00:00<?, ?it/s]"
      ]
     },
     "metadata": {},
     "output_type": "display_data"
    },
    {
     "data": {
      "application/vnd.jupyter.widget-view+json": {
       "model_id": "2b2b982760de49c5a41fb23037c987ba",
       "version_major": 2,
       "version_minor": 0
      },
      "text/plain": [
       "Render HTML:   0%|          | 0/1 [00:00<?, ?it/s]"
      ]
     },
     "metadata": {},
     "output_type": "display_data"
    },
    {
     "data": {
      "application/vnd.jupyter.widget-view+json": {
       "model_id": "43fd0caa8314417a98642df17cd0d214",
       "version_major": 2,
       "version_minor": 0
      },
      "text/plain": [
       "Export report to file:   0%|          | 0/1 [00:00<?, ?it/s]"
      ]
     },
     "metadata": {},
     "output_type": "display_data"
    }
   ],
   "source": [
    "profile.to_file(output_file = \"insuracnceData_prifiling_before_perprocessing.html\")"
   ]
  },
  {
   "cell_type": "markdown",
   "id": "fe53d362",
   "metadata": {},
   "source": [
    "# DATA PREPROCESSING"
   ]
  },
  {
   "cell_type": "code",
   "execution_count": 157,
   "id": "539abab7",
   "metadata": {},
   "outputs": [
    {
     "data": {
      "text/html": [
       "<div>\n",
       "<style scoped>\n",
       "    .dataframe tbody tr th:only-of-type {\n",
       "        vertical-align: middle;\n",
       "    }\n",
       "\n",
       "    .dataframe tbody tr th {\n",
       "        vertical-align: top;\n",
       "    }\n",
       "\n",
       "    .dataframe thead th {\n",
       "        text-align: right;\n",
       "    }\n",
       "</style>\n",
       "<table border=\"1\" class=\"dataframe\">\n",
       "  <thead>\n",
       "    <tr style=\"text-align: right;\">\n",
       "      <th></th>\n",
       "      <th>df_index</th>\n",
       "      <th>age</th>\n",
       "      <th>bmi</th>\n",
       "      <th>children</th>\n",
       "      <th>charges</th>\n",
       "    </tr>\n",
       "  </thead>\n",
       "  <tbody>\n",
       "    <tr>\n",
       "      <th>count</th>\n",
       "      <td>1338.000000</td>\n",
       "      <td>1338.000000</td>\n",
       "      <td>1338.000000</td>\n",
       "      <td>1338.000000</td>\n",
       "      <td>1338.000000</td>\n",
       "    </tr>\n",
       "    <tr>\n",
       "      <th>mean</th>\n",
       "      <td>668.500000</td>\n",
       "      <td>39.207025</td>\n",
       "      <td>30.663397</td>\n",
       "      <td>1.094918</td>\n",
       "      <td>13270.422265</td>\n",
       "    </tr>\n",
       "    <tr>\n",
       "      <th>std</th>\n",
       "      <td>386.391641</td>\n",
       "      <td>14.049960</td>\n",
       "      <td>6.098187</td>\n",
       "      <td>1.205493</td>\n",
       "      <td>12110.011237</td>\n",
       "    </tr>\n",
       "    <tr>\n",
       "      <th>min</th>\n",
       "      <td>0.000000</td>\n",
       "      <td>18.000000</td>\n",
       "      <td>15.960000</td>\n",
       "      <td>0.000000</td>\n",
       "      <td>1121.873900</td>\n",
       "    </tr>\n",
       "    <tr>\n",
       "      <th>25%</th>\n",
       "      <td>334.250000</td>\n",
       "      <td>27.000000</td>\n",
       "      <td>26.296250</td>\n",
       "      <td>0.000000</td>\n",
       "      <td>4740.287150</td>\n",
       "    </tr>\n",
       "    <tr>\n",
       "      <th>50%</th>\n",
       "      <td>668.500000</td>\n",
       "      <td>39.000000</td>\n",
       "      <td>30.400000</td>\n",
       "      <td>1.000000</td>\n",
       "      <td>9382.033000</td>\n",
       "    </tr>\n",
       "    <tr>\n",
       "      <th>75%</th>\n",
       "      <td>1002.750000</td>\n",
       "      <td>51.000000</td>\n",
       "      <td>34.693750</td>\n",
       "      <td>2.000000</td>\n",
       "      <td>16639.912515</td>\n",
       "    </tr>\n",
       "    <tr>\n",
       "      <th>max</th>\n",
       "      <td>1337.000000</td>\n",
       "      <td>64.000000</td>\n",
       "      <td>53.130000</td>\n",
       "      <td>5.000000</td>\n",
       "      <td>63770.428010</td>\n",
       "    </tr>\n",
       "  </tbody>\n",
       "</table>\n",
       "</div>"
      ],
      "text/plain": [
       "          df_index          age          bmi     children       charges\n",
       "count  1338.000000  1338.000000  1338.000000  1338.000000  1338.000000 \n",
       "mean   668.500000   39.207025    30.663397    1.094918     13270.422265\n",
       "std    386.391641   14.049960    6.098187     1.205493     12110.011237\n",
       "min    0.000000     18.000000    15.960000    0.000000     1121.873900 \n",
       "25%    334.250000   27.000000    26.296250    0.000000     4740.287150 \n",
       "50%    668.500000   39.000000    30.400000    1.000000     9382.033000 \n",
       "75%    1002.750000  51.000000    34.693750    2.000000     16639.912515\n",
       "max    1337.000000  64.000000    53.130000    5.000000     63770.428010"
      ]
     },
     "execution_count": 157,
     "metadata": {},
     "output_type": "execute_result"
    }
   ],
   "source": [
    "insuranceData.describe()"
   ]
  },
  {
   "cell_type": "code",
   "execution_count": 158,
   "id": "61846ac9",
   "metadata": {},
   "outputs": [
    {
     "data": {
      "text/html": [
       "<div>\n",
       "<style scoped>\n",
       "    .dataframe tbody tr th:only-of-type {\n",
       "        vertical-align: middle;\n",
       "    }\n",
       "\n",
       "    .dataframe tbody tr th {\n",
       "        vertical-align: top;\n",
       "    }\n",
       "\n",
       "    .dataframe thead th {\n",
       "        text-align: right;\n",
       "    }\n",
       "</style>\n",
       "<table border=\"1\" class=\"dataframe\">\n",
       "  <thead>\n",
       "    <tr style=\"text-align: right;\">\n",
       "      <th></th>\n",
       "      <th>df_index</th>\n",
       "      <th>age</th>\n",
       "      <th>sex</th>\n",
       "      <th>bmi</th>\n",
       "      <th>children</th>\n",
       "      <th>smoker</th>\n",
       "      <th>region</th>\n",
       "      <th>charges</th>\n",
       "    </tr>\n",
       "  </thead>\n",
       "  <tbody>\n",
       "    <tr>\n",
       "      <th>0</th>\n",
       "      <td>0</td>\n",
       "      <td>19</td>\n",
       "      <td>female</td>\n",
       "      <td>27.900</td>\n",
       "      <td>0</td>\n",
       "      <td>yes</td>\n",
       "      <td>southwest</td>\n",
       "      <td>16884.92400</td>\n",
       "    </tr>\n",
       "    <tr>\n",
       "      <th>1</th>\n",
       "      <td>1</td>\n",
       "      <td>18</td>\n",
       "      <td>male</td>\n",
       "      <td>33.770</td>\n",
       "      <td>1</td>\n",
       "      <td>no</td>\n",
       "      <td>southeast</td>\n",
       "      <td>1725.55230</td>\n",
       "    </tr>\n",
       "    <tr>\n",
       "      <th>2</th>\n",
       "      <td>2</td>\n",
       "      <td>28</td>\n",
       "      <td>male</td>\n",
       "      <td>33.000</td>\n",
       "      <td>3</td>\n",
       "      <td>no</td>\n",
       "      <td>southeast</td>\n",
       "      <td>4449.46200</td>\n",
       "    </tr>\n",
       "    <tr>\n",
       "      <th>3</th>\n",
       "      <td>3</td>\n",
       "      <td>33</td>\n",
       "      <td>male</td>\n",
       "      <td>22.705</td>\n",
       "      <td>0</td>\n",
       "      <td>no</td>\n",
       "      <td>northwest</td>\n",
       "      <td>21984.47061</td>\n",
       "    </tr>\n",
       "    <tr>\n",
       "      <th>4</th>\n",
       "      <td>4</td>\n",
       "      <td>32</td>\n",
       "      <td>male</td>\n",
       "      <td>28.880</td>\n",
       "      <td>0</td>\n",
       "      <td>no</td>\n",
       "      <td>northwest</td>\n",
       "      <td>3866.85520</td>\n",
       "    </tr>\n",
       "  </tbody>\n",
       "</table>\n",
       "</div>"
      ],
      "text/plain": [
       "   df_index  age     sex     bmi  children smoker     region      charges\n",
       "0  0         19   female  27.900  0         yes    southwest  16884.92400\n",
       "1  1         18   male    33.770  1         no     southeast  1725.55230 \n",
       "2  2         28   male    33.000  3         no     southeast  4449.46200 \n",
       "3  3         33   male    22.705  0         no     northwest  21984.47061\n",
       "4  4         32   male    28.880  0         no     northwest  3866.85520 "
      ]
     },
     "execution_count": 158,
     "metadata": {},
     "output_type": "execute_result"
    }
   ],
   "source": [
    "insuranceData.head()"
   ]
  },
  {
   "cell_type": "code",
   "execution_count": 159,
   "id": "3fe45578",
   "metadata": {},
   "outputs": [],
   "source": [
    "insuranceData['df_index']='rank'"
   ]
  },
  {
   "cell_type": "code",
   "execution_count": 160,
   "id": "a04d73c0",
   "metadata": {},
   "outputs": [
    {
     "data": {
      "text/html": [
       "<div>\n",
       "<style scoped>\n",
       "    .dataframe tbody tr th:only-of-type {\n",
       "        vertical-align: middle;\n",
       "    }\n",
       "\n",
       "    .dataframe tbody tr th {\n",
       "        vertical-align: top;\n",
       "    }\n",
       "\n",
       "    .dataframe thead th {\n",
       "        text-align: right;\n",
       "    }\n",
       "</style>\n",
       "<table border=\"1\" class=\"dataframe\">\n",
       "  <thead>\n",
       "    <tr style=\"text-align: right;\">\n",
       "      <th></th>\n",
       "      <th>df_index</th>\n",
       "      <th>age</th>\n",
       "      <th>sex</th>\n",
       "      <th>bmi</th>\n",
       "      <th>children</th>\n",
       "      <th>smoker</th>\n",
       "      <th>region</th>\n",
       "      <th>charges</th>\n",
       "    </tr>\n",
       "  </thead>\n",
       "  <tbody>\n",
       "    <tr>\n",
       "      <th>0</th>\n",
       "      <td>rank</td>\n",
       "      <td>19</td>\n",
       "      <td>female</td>\n",
       "      <td>27.900</td>\n",
       "      <td>0</td>\n",
       "      <td>yes</td>\n",
       "      <td>southwest</td>\n",
       "      <td>16884.92400</td>\n",
       "    </tr>\n",
       "    <tr>\n",
       "      <th>1</th>\n",
       "      <td>rank</td>\n",
       "      <td>18</td>\n",
       "      <td>male</td>\n",
       "      <td>33.770</td>\n",
       "      <td>1</td>\n",
       "      <td>no</td>\n",
       "      <td>southeast</td>\n",
       "      <td>1725.55230</td>\n",
       "    </tr>\n",
       "    <tr>\n",
       "      <th>2</th>\n",
       "      <td>rank</td>\n",
       "      <td>28</td>\n",
       "      <td>male</td>\n",
       "      <td>33.000</td>\n",
       "      <td>3</td>\n",
       "      <td>no</td>\n",
       "      <td>southeast</td>\n",
       "      <td>4449.46200</td>\n",
       "    </tr>\n",
       "    <tr>\n",
       "      <th>3</th>\n",
       "      <td>rank</td>\n",
       "      <td>33</td>\n",
       "      <td>male</td>\n",
       "      <td>22.705</td>\n",
       "      <td>0</td>\n",
       "      <td>no</td>\n",
       "      <td>northwest</td>\n",
       "      <td>21984.47061</td>\n",
       "    </tr>\n",
       "    <tr>\n",
       "      <th>4</th>\n",
       "      <td>rank</td>\n",
       "      <td>32</td>\n",
       "      <td>male</td>\n",
       "      <td>28.880</td>\n",
       "      <td>0</td>\n",
       "      <td>no</td>\n",
       "      <td>northwest</td>\n",
       "      <td>3866.85520</td>\n",
       "    </tr>\n",
       "  </tbody>\n",
       "</table>\n",
       "</div>"
      ],
      "text/plain": [
       "  df_index  age     sex     bmi  children smoker     region      charges\n",
       "0  rank     19   female  27.900  0         yes    southwest  16884.92400\n",
       "1  rank     18   male    33.770  1         no     southeast  1725.55230 \n",
       "2  rank     28   male    33.000  3         no     southeast  4449.46200 \n",
       "3  rank     33   male    22.705  0         no     northwest  21984.47061\n",
       "4  rank     32   male    28.880  0         no     northwest  3866.85520 "
      ]
     },
     "execution_count": 160,
     "metadata": {},
     "output_type": "execute_result"
    }
   ],
   "source": [
    "insuranceData.head()"
   ]
  },
  {
   "cell_type": "code",
   "execution_count": 161,
   "id": "616f418e",
   "metadata": {},
   "outputs": [],
   "source": [
    "insuranceData.drop(['df_index'],axis = 1,inplace = True)"
   ]
  },
  {
   "cell_type": "code",
   "execution_count": 162,
   "id": "0139039e",
   "metadata": {},
   "outputs": [
    {
     "data": {
      "text/html": [
       "<div>\n",
       "<style scoped>\n",
       "    .dataframe tbody tr th:only-of-type {\n",
       "        vertical-align: middle;\n",
       "    }\n",
       "\n",
       "    .dataframe tbody tr th {\n",
       "        vertical-align: top;\n",
       "    }\n",
       "\n",
       "    .dataframe thead th {\n",
       "        text-align: right;\n",
       "    }\n",
       "</style>\n",
       "<table border=\"1\" class=\"dataframe\">\n",
       "  <thead>\n",
       "    <tr style=\"text-align: right;\">\n",
       "      <th></th>\n",
       "      <th>age</th>\n",
       "      <th>sex</th>\n",
       "      <th>bmi</th>\n",
       "      <th>children</th>\n",
       "      <th>smoker</th>\n",
       "      <th>region</th>\n",
       "      <th>charges</th>\n",
       "    </tr>\n",
       "  </thead>\n",
       "  <tbody>\n",
       "    <tr>\n",
       "      <th>0</th>\n",
       "      <td>19</td>\n",
       "      <td>female</td>\n",
       "      <td>27.900</td>\n",
       "      <td>0</td>\n",
       "      <td>yes</td>\n",
       "      <td>southwest</td>\n",
       "      <td>16884.92400</td>\n",
       "    </tr>\n",
       "    <tr>\n",
       "      <th>1</th>\n",
       "      <td>18</td>\n",
       "      <td>male</td>\n",
       "      <td>33.770</td>\n",
       "      <td>1</td>\n",
       "      <td>no</td>\n",
       "      <td>southeast</td>\n",
       "      <td>1725.55230</td>\n",
       "    </tr>\n",
       "    <tr>\n",
       "      <th>2</th>\n",
       "      <td>28</td>\n",
       "      <td>male</td>\n",
       "      <td>33.000</td>\n",
       "      <td>3</td>\n",
       "      <td>no</td>\n",
       "      <td>southeast</td>\n",
       "      <td>4449.46200</td>\n",
       "    </tr>\n",
       "    <tr>\n",
       "      <th>3</th>\n",
       "      <td>33</td>\n",
       "      <td>male</td>\n",
       "      <td>22.705</td>\n",
       "      <td>0</td>\n",
       "      <td>no</td>\n",
       "      <td>northwest</td>\n",
       "      <td>21984.47061</td>\n",
       "    </tr>\n",
       "    <tr>\n",
       "      <th>4</th>\n",
       "      <td>32</td>\n",
       "      <td>male</td>\n",
       "      <td>28.880</td>\n",
       "      <td>0</td>\n",
       "      <td>no</td>\n",
       "      <td>northwest</td>\n",
       "      <td>3866.85520</td>\n",
       "    </tr>\n",
       "  </tbody>\n",
       "</table>\n",
       "</div>"
      ],
      "text/plain": [
       "   age     sex     bmi  children smoker     region      charges\n",
       "0  19   female  27.900  0         yes    southwest  16884.92400\n",
       "1  18   male    33.770  1         no     southeast  1725.55230 \n",
       "2  28   male    33.000  3         no     southeast  4449.46200 \n",
       "3  33   male    22.705  0         no     northwest  21984.47061\n",
       "4  32   male    28.880  0         no     northwest  3866.85520 "
      ]
     },
     "execution_count": 162,
     "metadata": {},
     "output_type": "execute_result"
    }
   ],
   "source": [
    "insuranceData.head()"
   ]
  },
  {
   "cell_type": "code",
   "execution_count": 163,
   "id": "217b3f70",
   "metadata": {},
   "outputs": [],
   "source": [
    "insuranceData ['smoker']=insuranceData['smoker'].replace('yes',1)\n",
    "insuranceData ['smoker']=insuranceData['smoker'].replace('no',0)"
   ]
  },
  {
   "cell_type": "code",
   "execution_count": 164,
   "id": "84123bd8",
   "metadata": {},
   "outputs": [
    {
     "data": {
      "text/html": [
       "<div>\n",
       "<style scoped>\n",
       "    .dataframe tbody tr th:only-of-type {\n",
       "        vertical-align: middle;\n",
       "    }\n",
       "\n",
       "    .dataframe tbody tr th {\n",
       "        vertical-align: top;\n",
       "    }\n",
       "\n",
       "    .dataframe thead th {\n",
       "        text-align: right;\n",
       "    }\n",
       "</style>\n",
       "<table border=\"1\" class=\"dataframe\">\n",
       "  <thead>\n",
       "    <tr style=\"text-align: right;\">\n",
       "      <th></th>\n",
       "      <th>age</th>\n",
       "      <th>sex</th>\n",
       "      <th>bmi</th>\n",
       "      <th>children</th>\n",
       "      <th>smoker</th>\n",
       "      <th>region</th>\n",
       "      <th>charges</th>\n",
       "    </tr>\n",
       "  </thead>\n",
       "  <tbody>\n",
       "    <tr>\n",
       "      <th>0</th>\n",
       "      <td>19</td>\n",
       "      <td>female</td>\n",
       "      <td>27.900</td>\n",
       "      <td>0</td>\n",
       "      <td>1</td>\n",
       "      <td>southwest</td>\n",
       "      <td>16884.92400</td>\n",
       "    </tr>\n",
       "    <tr>\n",
       "      <th>1</th>\n",
       "      <td>18</td>\n",
       "      <td>male</td>\n",
       "      <td>33.770</td>\n",
       "      <td>1</td>\n",
       "      <td>0</td>\n",
       "      <td>southeast</td>\n",
       "      <td>1725.55230</td>\n",
       "    </tr>\n",
       "    <tr>\n",
       "      <th>2</th>\n",
       "      <td>28</td>\n",
       "      <td>male</td>\n",
       "      <td>33.000</td>\n",
       "      <td>3</td>\n",
       "      <td>0</td>\n",
       "      <td>southeast</td>\n",
       "      <td>4449.46200</td>\n",
       "    </tr>\n",
       "    <tr>\n",
       "      <th>3</th>\n",
       "      <td>33</td>\n",
       "      <td>male</td>\n",
       "      <td>22.705</td>\n",
       "      <td>0</td>\n",
       "      <td>0</td>\n",
       "      <td>northwest</td>\n",
       "      <td>21984.47061</td>\n",
       "    </tr>\n",
       "    <tr>\n",
       "      <th>4</th>\n",
       "      <td>32</td>\n",
       "      <td>male</td>\n",
       "      <td>28.880</td>\n",
       "      <td>0</td>\n",
       "      <td>0</td>\n",
       "      <td>northwest</td>\n",
       "      <td>3866.85520</td>\n",
       "    </tr>\n",
       "  </tbody>\n",
       "</table>\n",
       "</div>"
      ],
      "text/plain": [
       "   age     sex     bmi  children  smoker     region      charges\n",
       "0  19   female  27.900  0         1       southwest  16884.92400\n",
       "1  18   male    33.770  1         0       southeast  1725.55230 \n",
       "2  28   male    33.000  3         0       southeast  4449.46200 \n",
       "3  33   male    22.705  0         0       northwest  21984.47061\n",
       "4  32   male    28.880  0         0       northwest  3866.85520 "
      ]
     },
     "execution_count": 164,
     "metadata": {},
     "output_type": "execute_result"
    }
   ],
   "source": [
    "insuranceData.head()"
   ]
  },
  {
   "cell_type": "code",
   "execution_count": 165,
   "id": "dcf89491",
   "metadata": {},
   "outputs": [],
   "source": [
    "insuranceData ['region']=insuranceData['region'].replace('southwest',1)\n",
    "insuranceData ['region']=insuranceData['region'].replace('southeast',2)\n",
    "insuranceData ['region']=insuranceData['region'].replace('northwest',3)\n",
    "insuranceData ['region']=insuranceData['region'].replace('northeast',4)"
   ]
  },
  {
   "cell_type": "code",
   "execution_count": 166,
   "id": "9f9234a0",
   "metadata": {},
   "outputs": [
    {
     "data": {
      "text/html": [
       "<div>\n",
       "<style scoped>\n",
       "    .dataframe tbody tr th:only-of-type {\n",
       "        vertical-align: middle;\n",
       "    }\n",
       "\n",
       "    .dataframe tbody tr th {\n",
       "        vertical-align: top;\n",
       "    }\n",
       "\n",
       "    .dataframe thead th {\n",
       "        text-align: right;\n",
       "    }\n",
       "</style>\n",
       "<table border=\"1\" class=\"dataframe\">\n",
       "  <thead>\n",
       "    <tr style=\"text-align: right;\">\n",
       "      <th></th>\n",
       "      <th>age</th>\n",
       "      <th>sex</th>\n",
       "      <th>bmi</th>\n",
       "      <th>children</th>\n",
       "      <th>smoker</th>\n",
       "      <th>region</th>\n",
       "      <th>charges</th>\n",
       "    </tr>\n",
       "  </thead>\n",
       "  <tbody>\n",
       "    <tr>\n",
       "      <th>0</th>\n",
       "      <td>19</td>\n",
       "      <td>female</td>\n",
       "      <td>27.900</td>\n",
       "      <td>0</td>\n",
       "      <td>1</td>\n",
       "      <td>1</td>\n",
       "      <td>16884.92400</td>\n",
       "    </tr>\n",
       "    <tr>\n",
       "      <th>1</th>\n",
       "      <td>18</td>\n",
       "      <td>male</td>\n",
       "      <td>33.770</td>\n",
       "      <td>1</td>\n",
       "      <td>0</td>\n",
       "      <td>2</td>\n",
       "      <td>1725.55230</td>\n",
       "    </tr>\n",
       "    <tr>\n",
       "      <th>2</th>\n",
       "      <td>28</td>\n",
       "      <td>male</td>\n",
       "      <td>33.000</td>\n",
       "      <td>3</td>\n",
       "      <td>0</td>\n",
       "      <td>2</td>\n",
       "      <td>4449.46200</td>\n",
       "    </tr>\n",
       "    <tr>\n",
       "      <th>3</th>\n",
       "      <td>33</td>\n",
       "      <td>male</td>\n",
       "      <td>22.705</td>\n",
       "      <td>0</td>\n",
       "      <td>0</td>\n",
       "      <td>3</td>\n",
       "      <td>21984.47061</td>\n",
       "    </tr>\n",
       "    <tr>\n",
       "      <th>4</th>\n",
       "      <td>32</td>\n",
       "      <td>male</td>\n",
       "      <td>28.880</td>\n",
       "      <td>0</td>\n",
       "      <td>0</td>\n",
       "      <td>3</td>\n",
       "      <td>3866.85520</td>\n",
       "    </tr>\n",
       "  </tbody>\n",
       "</table>\n",
       "</div>"
      ],
      "text/plain": [
       "   age     sex     bmi  children  smoker  region      charges\n",
       "0  19   female  27.900  0         1       1       16884.92400\n",
       "1  18   male    33.770  1         0       2       1725.55230 \n",
       "2  28   male    33.000  3         0       2       4449.46200 \n",
       "3  33   male    22.705  0         0       3       21984.47061\n",
       "4  32   male    28.880  0         0       3       3866.85520 "
      ]
     },
     "execution_count": 166,
     "metadata": {},
     "output_type": "execute_result"
    }
   ],
   "source": [
    "insuranceData.head()\n"
   ]
  },
  {
   "cell_type": "markdown",
   "id": "3d51267b",
   "metadata": {},
   "source": [
    "# PANDAS PROFILING AFTER DATA PREPROCESSING"
   ]
  },
  {
   "cell_type": "code",
   "execution_count": 167,
   "id": "0dd82fcc",
   "metadata": {},
   "outputs": [],
   "source": [
    "profile = pandas_profiling.ProfileReport(insuranceData)"
   ]
  },
  {
   "cell_type": "code",
   "execution_count": 168,
   "id": "53de9647",
   "metadata": {},
   "outputs": [
    {
     "data": {
      "application/vnd.jupyter.widget-view+json": {
       "model_id": "927da6ad3e3e45708011cc0840bfd6ba",
       "version_major": 2,
       "version_minor": 0
      },
      "text/plain": [
       "Summarize dataset:   0%|          | 0/5 [00:00<?, ?it/s]"
      ]
     },
     "metadata": {},
     "output_type": "display_data"
    },
    {
     "data": {
      "application/vnd.jupyter.widget-view+json": {
       "model_id": "baceebd35a1e43199a1827acd58163a3",
       "version_major": 2,
       "version_minor": 0
      },
      "text/plain": [
       "Generate report structure:   0%|          | 0/1 [00:00<?, ?it/s]"
      ]
     },
     "metadata": {},
     "output_type": "display_data"
    },
    {
     "data": {
      "application/vnd.jupyter.widget-view+json": {
       "model_id": "526348221bed45a389b8d468aca2f7bb",
       "version_major": 2,
       "version_minor": 0
      },
      "text/plain": [
       "Render HTML:   0%|          | 0/1 [00:00<?, ?it/s]"
      ]
     },
     "metadata": {},
     "output_type": "display_data"
    },
    {
     "data": {
      "application/vnd.jupyter.widget-view+json": {
       "model_id": "91a7a53a28be4f8289bfa0447d9c1747",
       "version_major": 2,
       "version_minor": 0
      },
      "text/plain": [
       "Export report to file:   0%|          | 0/1 [00:00<?, ?it/s]"
      ]
     },
     "metadata": {},
     "output_type": "display_data"
    }
   ],
   "source": [
    "profile.to_file(output_file=\"insuranceData_profile_after_preprocessing.html\")"
   ]
  },
  {
   "cell_type": "code",
   "execution_count": 169,
   "id": "ba16cbfc",
   "metadata": {},
   "outputs": [
    {
     "data": {
      "text/html": [
       "<div>\n",
       "<style scoped>\n",
       "    .dataframe tbody tr th:only-of-type {\n",
       "        vertical-align: middle;\n",
       "    }\n",
       "\n",
       "    .dataframe tbody tr th {\n",
       "        vertical-align: top;\n",
       "    }\n",
       "\n",
       "    .dataframe thead th {\n",
       "        text-align: right;\n",
       "    }\n",
       "</style>\n",
       "<table border=\"1\" class=\"dataframe\">\n",
       "  <thead>\n",
       "    <tr style=\"text-align: right;\">\n",
       "      <th></th>\n",
       "      <th>age</th>\n",
       "      <th>sex</th>\n",
       "      <th>bmi</th>\n",
       "      <th>children</th>\n",
       "      <th>smoker</th>\n",
       "      <th>region</th>\n",
       "      <th>charges</th>\n",
       "    </tr>\n",
       "  </thead>\n",
       "  <tbody>\n",
       "    <tr>\n",
       "      <th>0</th>\n",
       "      <td>19</td>\n",
       "      <td>female</td>\n",
       "      <td>27.900</td>\n",
       "      <td>0</td>\n",
       "      <td>1</td>\n",
       "      <td>1</td>\n",
       "      <td>16884.92400</td>\n",
       "    </tr>\n",
       "    <tr>\n",
       "      <th>1</th>\n",
       "      <td>18</td>\n",
       "      <td>male</td>\n",
       "      <td>33.770</td>\n",
       "      <td>1</td>\n",
       "      <td>0</td>\n",
       "      <td>2</td>\n",
       "      <td>1725.55230</td>\n",
       "    </tr>\n",
       "    <tr>\n",
       "      <th>2</th>\n",
       "      <td>28</td>\n",
       "      <td>male</td>\n",
       "      <td>33.000</td>\n",
       "      <td>3</td>\n",
       "      <td>0</td>\n",
       "      <td>2</td>\n",
       "      <td>4449.46200</td>\n",
       "    </tr>\n",
       "    <tr>\n",
       "      <th>3</th>\n",
       "      <td>33</td>\n",
       "      <td>male</td>\n",
       "      <td>22.705</td>\n",
       "      <td>0</td>\n",
       "      <td>0</td>\n",
       "      <td>3</td>\n",
       "      <td>21984.47061</td>\n",
       "    </tr>\n",
       "    <tr>\n",
       "      <th>4</th>\n",
       "      <td>32</td>\n",
       "      <td>male</td>\n",
       "      <td>28.880</td>\n",
       "      <td>0</td>\n",
       "      <td>0</td>\n",
       "      <td>3</td>\n",
       "      <td>3866.85520</td>\n",
       "    </tr>\n",
       "  </tbody>\n",
       "</table>\n",
       "</div>"
      ],
      "text/plain": [
       "   age     sex     bmi  children  smoker  region      charges\n",
       "0  19   female  27.900  0         1       1       16884.92400\n",
       "1  18   male    33.770  1         0       2       1725.55230 \n",
       "2  28   male    33.000  3         0       2       4449.46200 \n",
       "3  33   male    22.705  0         0       3       21984.47061\n",
       "4  32   male    28.880  0         0       3       3866.85520 "
      ]
     },
     "execution_count": 169,
     "metadata": {},
     "output_type": "execute_result"
    }
   ],
   "source": [
    "insuranceData.head()"
   ]
  },
  {
   "cell_type": "markdown",
   "id": "21ea98f0",
   "metadata": {},
   "source": [
    "# Data Visualization"
   ]
  },
  {
   "cell_type": "code",
   "execution_count": 170,
   "id": "a4abeb3c",
   "metadata": {},
   "outputs": [
    {
     "data": {
      "text/plain": [
       "<AxesSubplot:>"
      ]
     },
     "execution_count": 170,
     "metadata": {},
     "output_type": "execute_result"
    },
    {
     "data": {
      "image/png": "[encoded data removed]",
      "text/plain": [
       "<Figure size 640x480 with 1 Axes>"
      ]
     },
     "metadata": {},
     "output_type": "display_data"
    }
   ],
   "source": [
    "insuranceData['sex'].value_counts().plot(kind='bar',color='red') #GETTING THE DISTRIBUTION OF MENS AND WOMENS IN THE DATA\n"
   ]
  },
  {
   "cell_type": "code",
   "execution_count": 171,
   "id": "71c04f60",
   "metadata": {},
   "outputs": [
    {
     "data": {
      "text/plain": [
       "Text(0.5, 1.0, 'Pair Plot')"
      ]
     },
     "execution_count": 171,
     "metadata": {},
     "output_type": "execute_result"
    },
    {
     "data": {
      "image/png": "[encoded data removed]",
      "text/plain": [
       "<Figure size 876.5x750 with 12 Axes>"
      ]
     },
     "metadata": {},
     "output_type": "display_data"
    }
   ],
   "source": [
    "import seaborn as sns\n",
    "sns.pairplot(insuranceData[['charges','age','bmi','smoker']], vars=['bmi','age','smoker'], hue='charges',dropna=True)\n",
    "plt.title('Pair Plot')    #TRYING TO GET INSIGHTS OR FINDING CORELATION USING PAIRPLOT "
   ]
  },
  {
   "cell_type": "code",
   "execution_count": 172,
   "id": "56d4bcd3",
   "metadata": {},
   "outputs": [
    {
     "data": {
      "text/plain": [
       "Text(0.5, 1.0, 'Correlation between features')"
      ]
     },
     "execution_count": 172,
     "metadata": {},
     "output_type": "execute_result"
    },
    {
     "data": {
      "image/png": "[encoded data removed]",
      "text/plain": [
       "<Figure size 1000x1000 with 2 Axes>"
      ]
     },
     "metadata": {},
     "output_type": "display_data"
    }
   ],
   "source": [
    "corr=insuranceData.corr()     #BEST WAY TO FIND CORELATION BETWEEN ALL THE FEATURES\n",
    "plt.figure(figsize=(10,10))\n",
    "sns.heatmap(corr, vmax=.8, linewidth= 0.01, square= True, annot= True, cmap='YlGnBu',linecolor='black')\n",
    "plt.title('Correlation between features')   "
   ]
  },
  {
   "cell_type": "code",
   "execution_count": 173,
   "id": "93a5334b",
   "metadata": {},
   "outputs": [
    {
     "data": {
      "text/plain": [
       "<AxesSubplot:xlabel='sex'>"
      ]
     },
     "execution_count": 173,
     "metadata": {},
     "output_type": "execute_result"
    },
    {
     "data": {
      "image/png": "[encoded data removed]",
      "text/plain": [
       "<Figure size 2000x800 with 1 Axes>"
      ]
     },
     "metadata": {},
     "output_type": "display_data"
    }
   ],
   "source": [
    "plt.figure(figsize=(20,8))\n",
    "insuranceData.groupby('sex')['charges'].mean().sort_values(ascending=False).plot(kind='bar',color='green')\n",
    "# Gtting the charges difference between both male and female"
   ]
  },
  {
   "cell_type": "code",
   "execution_count": 174,
   "id": "98b57c7b",
   "metadata": {},
   "outputs": [
    {
     "data": {
      "text/html": [
       "<div>\n",
       "<style scoped>\n",
       "    .dataframe tbody tr th:only-of-type {\n",
       "        vertical-align: middle;\n",
       "    }\n",
       "\n",
       "    .dataframe tbody tr th {\n",
       "        vertical-align: top;\n",
       "    }\n",
       "\n",
       "    .dataframe thead th {\n",
       "        text-align: right;\n",
       "    }\n",
       "</style>\n",
       "<table border=\"1\" class=\"dataframe\">\n",
       "  <thead>\n",
       "    <tr style=\"text-align: right;\">\n",
       "      <th></th>\n",
       "      <th>age</th>\n",
       "      <th>sex</th>\n",
       "      <th>bmi</th>\n",
       "      <th>children</th>\n",
       "      <th>smoker</th>\n",
       "      <th>region</th>\n",
       "      <th>charges</th>\n",
       "    </tr>\n",
       "  </thead>\n",
       "  <tbody>\n",
       "    <tr>\n",
       "      <th>0</th>\n",
       "      <td>19</td>\n",
       "      <td>female</td>\n",
       "      <td>27.900</td>\n",
       "      <td>0</td>\n",
       "      <td>1</td>\n",
       "      <td>1</td>\n",
       "      <td>16884.92400</td>\n",
       "    </tr>\n",
       "    <tr>\n",
       "      <th>1</th>\n",
       "      <td>18</td>\n",
       "      <td>male</td>\n",
       "      <td>33.770</td>\n",
       "      <td>1</td>\n",
       "      <td>0</td>\n",
       "      <td>2</td>\n",
       "      <td>1725.55230</td>\n",
       "    </tr>\n",
       "    <tr>\n",
       "      <th>2</th>\n",
       "      <td>28</td>\n",
       "      <td>male</td>\n",
       "      <td>33.000</td>\n",
       "      <td>3</td>\n",
       "      <td>0</td>\n",
       "      <td>2</td>\n",
       "      <td>4449.46200</td>\n",
       "    </tr>\n",
       "    <tr>\n",
       "      <th>3</th>\n",
       "      <td>33</td>\n",
       "      <td>male</td>\n",
       "      <td>22.705</td>\n",
       "      <td>0</td>\n",
       "      <td>0</td>\n",
       "      <td>3</td>\n",
       "      <td>21984.47061</td>\n",
       "    </tr>\n",
       "    <tr>\n",
       "      <th>4</th>\n",
       "      <td>32</td>\n",
       "      <td>male</td>\n",
       "      <td>28.880</td>\n",
       "      <td>0</td>\n",
       "      <td>0</td>\n",
       "      <td>3</td>\n",
       "      <td>3866.85520</td>\n",
       "    </tr>\n",
       "  </tbody>\n",
       "</table>\n",
       "</div>"
      ],
      "text/plain": [
       "   age     sex     bmi  children  smoker  region      charges\n",
       "0  19   female  27.900  0         1       1       16884.92400\n",
       "1  18   male    33.770  1         0       2       1725.55230 \n",
       "2  28   male    33.000  3         0       2       4449.46200 \n",
       "3  33   male    22.705  0         0       3       21984.47061\n",
       "4  32   male    28.880  0         0       3       3866.85520 "
      ]
     },
     "execution_count": 174,
     "metadata": {},
     "output_type": "execute_result"
    }
   ],
   "source": [
    "insuranceData02=insuranceData.copy()   # creating a copy of the data for backup\n",
    "insuranceData02.head()"
   ]
  },
  {
   "cell_type": "code",
   "execution_count": 175,
   "id": "cf45149d",
   "metadata": {},
   "outputs": [
    {
     "data": {
      "text/html": [
       "<div>\n",
       "<style scoped>\n",
       "    .dataframe tbody tr th:only-of-type {\n",
       "        vertical-align: middle;\n",
       "    }\n",
       "\n",
       "    .dataframe tbody tr th {\n",
       "        vertical-align: top;\n",
       "    }\n",
       "\n",
       "    .dataframe thead th {\n",
       "        text-align: right;\n",
       "    }\n",
       "</style>\n",
       "<table border=\"1\" class=\"dataframe\">\n",
       "  <thead>\n",
       "    <tr style=\"text-align: right;\">\n",
       "      <th></th>\n",
       "      <th>age</th>\n",
       "      <th>sex</th>\n",
       "      <th>bmi</th>\n",
       "      <th>children</th>\n",
       "      <th>smoker</th>\n",
       "      <th>region</th>\n",
       "      <th>charges</th>\n",
       "    </tr>\n",
       "  </thead>\n",
       "  <tbody>\n",
       "    <tr>\n",
       "      <th>0</th>\n",
       "      <td>19</td>\n",
       "      <td>female</td>\n",
       "      <td>27.900</td>\n",
       "      <td>0</td>\n",
       "      <td>1</td>\n",
       "      <td>1</td>\n",
       "      <td>16884.92400</td>\n",
       "    </tr>\n",
       "    <tr>\n",
       "      <th>1</th>\n",
       "      <td>18</td>\n",
       "      <td>male</td>\n",
       "      <td>33.770</td>\n",
       "      <td>1</td>\n",
       "      <td>0</td>\n",
       "      <td>2</td>\n",
       "      <td>1725.55230</td>\n",
       "    </tr>\n",
       "    <tr>\n",
       "      <th>2</th>\n",
       "      <td>28</td>\n",
       "      <td>male</td>\n",
       "      <td>33.000</td>\n",
       "      <td>3</td>\n",
       "      <td>0</td>\n",
       "      <td>2</td>\n",
       "      <td>4449.46200</td>\n",
       "    </tr>\n",
       "    <tr>\n",
       "      <th>3</th>\n",
       "      <td>33</td>\n",
       "      <td>male</td>\n",
       "      <td>22.705</td>\n",
       "      <td>0</td>\n",
       "      <td>0</td>\n",
       "      <td>3</td>\n",
       "      <td>21984.47061</td>\n",
       "    </tr>\n",
       "    <tr>\n",
       "      <th>4</th>\n",
       "      <td>32</td>\n",
       "      <td>male</td>\n",
       "      <td>28.880</td>\n",
       "      <td>0</td>\n",
       "      <td>0</td>\n",
       "      <td>3</td>\n",
       "      <td>3866.85520</td>\n",
       "    </tr>\n",
       "  </tbody>\n",
       "</table>\n",
       "</div>"
      ],
      "text/plain": [
       "   age     sex     bmi  children  smoker  region      charges\n",
       "0  19   female  27.900  0         1       1       16884.92400\n",
       "1  18   male    33.770  1         0       2       1725.55230 \n",
       "2  28   male    33.000  3         0       2       4449.46200 \n",
       "3  33   male    22.705  0         0       3       21984.47061\n",
       "4  32   male    28.880  0         0       3       3866.85520 "
      ]
     },
     "execution_count": 175,
     "metadata": {},
     "output_type": "execute_result"
    }
   ],
   "source": [
    "insuranceData.columns=['age','sex','bmi','children','smoker','region','charges']  # setting columns\n",
    "insuranceData.head() "
   ]
  },
  {
   "cell_type": "code",
   "execution_count": 176,
   "id": "cd030835",
   "metadata": {},
   "outputs": [],
   "source": [
    "insuranceData['sex']=insuranceData['sex'].replace('male',1)\n",
    "insuranceData['sex']=insuranceData['sex'].replace('female',0) #setting male and female as 0 and 1 for fitting in models"
   ]
  },
  {
   "cell_type": "code",
   "execution_count": 177,
   "id": "01081e0b",
   "metadata": {},
   "outputs": [
    {
     "data": {
      "text/html": [
       "<div>\n",
       "<style scoped>\n",
       "    .dataframe tbody tr th:only-of-type {\n",
       "        vertical-align: middle;\n",
       "    }\n",
       "\n",
       "    .dataframe tbody tr th {\n",
       "        vertical-align: top;\n",
       "    }\n",
       "\n",
       "    .dataframe thead th {\n",
       "        text-align: right;\n",
       "    }\n",
       "</style>\n",
       "<table border=\"1\" class=\"dataframe\">\n",
       "  <thead>\n",
       "    <tr style=\"text-align: right;\">\n",
       "      <th></th>\n",
       "      <th>age</th>\n",
       "      <th>sex</th>\n",
       "      <th>bmi</th>\n",
       "      <th>children</th>\n",
       "      <th>smoker</th>\n",
       "      <th>region</th>\n",
       "      <th>charges</th>\n",
       "    </tr>\n",
       "  </thead>\n",
       "  <tbody>\n",
       "    <tr>\n",
       "      <th>0</th>\n",
       "      <td>19</td>\n",
       "      <td>0</td>\n",
       "      <td>27.900</td>\n",
       "      <td>0</td>\n",
       "      <td>1</td>\n",
       "      <td>1</td>\n",
       "      <td>16884.92400</td>\n",
       "    </tr>\n",
       "    <tr>\n",
       "      <th>1</th>\n",
       "      <td>18</td>\n",
       "      <td>1</td>\n",
       "      <td>33.770</td>\n",
       "      <td>1</td>\n",
       "      <td>0</td>\n",
       "      <td>2</td>\n",
       "      <td>1725.55230</td>\n",
       "    </tr>\n",
       "    <tr>\n",
       "      <th>2</th>\n",
       "      <td>28</td>\n",
       "      <td>1</td>\n",
       "      <td>33.000</td>\n",
       "      <td>3</td>\n",
       "      <td>0</td>\n",
       "      <td>2</td>\n",
       "      <td>4449.46200</td>\n",
       "    </tr>\n",
       "    <tr>\n",
       "      <th>3</th>\n",
       "      <td>33</td>\n",
       "      <td>1</td>\n",
       "      <td>22.705</td>\n",
       "      <td>0</td>\n",
       "      <td>0</td>\n",
       "      <td>3</td>\n",
       "      <td>21984.47061</td>\n",
       "    </tr>\n",
       "    <tr>\n",
       "      <th>4</th>\n",
       "      <td>32</td>\n",
       "      <td>1</td>\n",
       "      <td>28.880</td>\n",
       "      <td>0</td>\n",
       "      <td>0</td>\n",
       "      <td>3</td>\n",
       "      <td>3866.85520</td>\n",
       "    </tr>\n",
       "  </tbody>\n",
       "</table>\n",
       "</div>"
      ],
      "text/plain": [
       "   age  sex     bmi  children  smoker  region      charges\n",
       "0  19   0    27.900  0         1       1       16884.92400\n",
       "1  18   1    33.770  1         0       2       1725.55230 \n",
       "2  28   1    33.000  3         0       2       4449.46200 \n",
       "3  33   1    22.705  0         0       3       21984.47061\n",
       "4  32   1    28.880  0         0       3       3866.85520 "
      ]
     },
     "execution_count": 177,
     "metadata": {},
     "output_type": "execute_result"
    }
   ],
   "source": [
    "insuranceData.head()"
   ]
  },
  {
   "cell_type": "markdown",
   "id": "90f09246",
   "metadata": {},
   "source": [
    "# MAKING DATA READY FOR MODEL EVALUATION"
   ]
  },
  {
   "cell_type": "code",
   "execution_count": 178,
   "id": "8f10d4e2",
   "metadata": {},
   "outputs": [],
   "source": [
    "feature_col=['age','sex','smoker','children']"
   ]
  },
  {
   "cell_type": "code",
   "execution_count": 179,
   "id": "e872c42c",
   "metadata": {},
   "outputs": [],
   "source": [
    "x=insuranceData[feature_col]"
   ]
  },
  {
   "cell_type": "code",
   "execution_count": 180,
   "id": "1d94924f",
   "metadata": {},
   "outputs": [
    {
     "name": "stdout",
     "output_type": "stream",
     "text": [
      "<class 'pandas.core.frame.DataFrame'>\n",
      "(1338, 4)\n"
     ]
    }
   ],
   "source": [
    "print(type(x))\n",
    "print(x.shape)"
   ]
  },
  {
   "cell_type": "code",
   "execution_count": 181,
   "id": "9c5cb0c0",
   "metadata": {},
   "outputs": [],
   "source": [
    "y=np.array(insuranceData.charges)"
   ]
  },
  {
   "cell_type": "code",
   "execution_count": 182,
   "id": "760b50f7",
   "metadata": {},
   "outputs": [
    {
     "name": "stdout",
     "output_type": "stream",
     "text": [
      "<class 'pandas.core.frame.DataFrame'>\n",
      "(1338,)\n"
     ]
    }
   ],
   "source": [
    "print(type(x))\n",
    "print(y.shape)"
   ]
  },
  {
   "cell_type": "code",
   "execution_count": 183,
   "id": "c4a3aaaf",
   "metadata": {},
   "outputs": [],
   "source": [
    "from sklearn.model_selection import train_test_split\n"
   ]
  },
  {
   "cell_type": "code",
   "execution_count": 184,
   "id": "e3100a95",
   "metadata": {},
   "outputs": [],
   "source": [
    "def split (x,y):\n",
    "    return train_test_split (x,y,test_size=0.20,random_state=1)"
   ]
  },
  {
   "cell_type": "code",
   "execution_count": 185,
   "id": "64c35ad1",
   "metadata": {},
   "outputs": [
    {
     "name": "stdout",
     "output_type": "stream",
     "text": [
      "train cases as below\n",
      "x_train shape:  (1070, 4)\n",
      "y_train shape:  (1070,)\n",
      "\n",
      " test cases as below\n",
      "x_test shape:  (268, 4)\n",
      "y_test shape:  (268,)\n"
     ]
    }
   ],
   "source": [
    "x_train,x_test,y_train,y_test=split(x,y)\n",
    "print('train cases as below')\n",
    "print('x_train shape: ',x_train.shape)\n",
    "print('y_train shape: ',y_train.shape)\n",
    "print('\\n test cases as below')\n",
    "print('x_test shape: ',x_test.shape)\n",
    "print('y_test shape: ',y_test.shape)"
   ]
  },
  {
   "cell_type": "code",
   "execution_count": 186,
   "id": "b1d3f5f9",
   "metadata": {},
   "outputs": [
    {
     "name": "stdout",
     "output_type": "stream",
     "text": [
      "[ 592  576    4 ... 1039  840  656]\n"
     ]
    }
   ],
   "source": [
    "from sklearn import preprocessing \n",
    "from sklearn import utils\n",
    "\n",
    "#convert y values to categorical values\n",
    "lab = preprocessing.LabelEncoder()\n",
    "y_train = lab.fit_transform(y_train)\n",
    "\n",
    "#view transformed values\n",
    "print(y_train)\n"
   ]
  },
  {
   "cell_type": "markdown",
   "id": "063396d8",
   "metadata": {},
   "source": [
    "# USING KNN MODEL FOR PREDICTION"
   ]
  },
  {
   "cell_type": "code",
   "execution_count": 187,
   "id": "7ce1e958",
   "metadata": {},
   "outputs": [],
   "source": [
    "from sklearn.neighbors import KNeighborsClassifier\n",
    "knn = KNeighborsClassifier(n_neighbors = 6,p=2,metric='minkowski')"
   ]
  },
  {
   "cell_type": "code",
   "execution_count": 188,
   "id": "a43f3f20",
   "metadata": {},
   "outputs": [
    {
     "data": {
      "text/plain": [
       "KNeighborsClassifier(n_neighbors=6)"
      ]
     },
     "execution_count": 188,
     "metadata": {},
     "output_type": "execute_result"
    }
   ],
   "source": [
    "knn.fit(x_train,y_train)"
   ]
  },
  {
   "cell_type": "code",
   "execution_count": 189,
   "id": "faf60810",
   "metadata": {},
   "outputs": [],
   "source": [
    "y_pred_test=knn.predict(x_test)\n",
    "y_pred_train=knn.predict(x_train)"
   ]
  },
  {
   "cell_type": "markdown",
   "id": "c09224ef",
   "metadata": {},
   "source": [
    "# Model evaluation for KNN model using MAE,MSE,RMSE\n"
   ]
  },
  {
   "cell_type": "code",
   "execution_count": 190,
   "id": "c16c6b61",
   "metadata": {},
   "outputs": [
    {
     "name": "stdout",
     "output_type": "stream",
     "text": [
      "MEA for training data is 163.12429906542056\n",
      "MEA for test data is 13045.530244701493\n"
     ]
    }
   ],
   "source": [
    "import sklearn.metrics as metrics\n",
    "knn_MAE_train=metrics.mean_absolute_error(y_train,y_pred_train)\n",
    "knn_MAE_test =metrics.mean_absolute_error(y_test,y_pred_test)\n",
    "print ('MEA for training data is {}'.format(knn_MAE_train))\n",
    "print ('MEA for test data is {}'.format(knn_MAE_test))"
   ]
  },
  {
   "cell_type": "code",
   "execution_count": 191,
   "id": "d4e1b240",
   "metadata": {},
   "outputs": [
    {
     "name": "stdout",
     "output_type": "stream",
     "text": [
      "MSE for training data is 88028.94859813084\n",
      "MSE for test data is 317242191.38086325\n"
     ]
    }
   ],
   "source": [
    "knn_MSE_train=metrics.mean_squared_error(y_train,y_pred_train)\n",
    "knn_MSE_test =metrics.mean_squared_error(y_test,y_pred_test)\n",
    "print('MSE for training data is {}'.format(knn_MSE_train))\n",
    "print('MSE for test data is {}'.format(knn_MSE_test))"
   ]
  },
  {
   "cell_type": "code",
   "execution_count": 192,
   "id": "0109881c",
   "metadata": {},
   "outputs": [
    {
     "name": "stdout",
     "output_type": "stream",
     "text": [
      "RMSE for train data is 296.69672832394167\n",
      "RMSE for test data is 17811.29392775447\n"
     ]
    }
   ],
   "source": [
    "knn_RMSE_train=np.sqrt(metrics.mean_squared_error(y_train,y_pred_train))\n",
    "knn_RMSE_test =np.sqrt(metrics.mean_squared_error(y_test,y_pred_test))\n",
    "print ('RMSE for train data is {}'.format(knn_RMSE_train))\n",
    "print ('RMSE for test data is {}'.format(knn_RMSE_test))"
   ]
  },
  {
   "cell_type": "markdown",
   "id": "82c6b3eb",
   "metadata": {},
   "source": [
    "# USING LOGISTIC REGRESSION FOR PREDICTION"
   ]
  },
  {
   "cell_type": "code",
   "execution_count": 193,
   "id": "b415a7bb",
   "metadata": {},
   "outputs": [],
   "source": [
    "from sklearn.linear_model import LogisticRegression\n",
    "LR = LogisticRegression()"
   ]
  },
  {
   "cell_type": "code",
   "execution_count": 194,
   "id": "9c3beab8",
   "metadata": {
    "scrolled": true
   },
   "outputs": [
    {
     "data": {
      "text/plain": [
       "LogisticRegression()"
      ]
     },
     "execution_count": 194,
     "metadata": {},
     "output_type": "execute_result"
    }
   ],
   "source": [
    "LR.fit(x_train,y_train)"
   ]
  },
  {
   "cell_type": "code",
   "execution_count": 195,
   "id": "84e3a1c7",
   "metadata": {},
   "outputs": [],
   "source": [
    "y_pred_test = LR.predict(x_test)"
   ]
  },
  {
   "cell_type": "code",
   "execution_count": 196,
   "id": "b38e32b7",
   "metadata": {},
   "outputs": [],
   "source": [
    "y_pred = LR.predict(x)"
   ]
  },
  {
   "cell_type": "code",
   "execution_count": 197,
   "id": "b5a93765",
   "metadata": {},
   "outputs": [],
   "source": [
    "insuranceData['y_pred']=y_pred"
   ]
  },
  {
   "cell_type": "code",
   "execution_count": 198,
   "id": "5f7845ce",
   "metadata": {},
   "outputs": [
    {
     "data": {
      "text/html": [
       "<div>\n",
       "<style scoped>\n",
       "    .dataframe tbody tr th:only-of-type {\n",
       "        vertical-align: middle;\n",
       "    }\n",
       "\n",
       "    .dataframe tbody tr th {\n",
       "        vertical-align: top;\n",
       "    }\n",
       "\n",
       "    .dataframe thead th {\n",
       "        text-align: right;\n",
       "    }\n",
       "</style>\n",
       "<table border=\"1\" class=\"dataframe\">\n",
       "  <thead>\n",
       "    <tr style=\"text-align: right;\">\n",
       "      <th></th>\n",
       "      <th>age</th>\n",
       "      <th>sex</th>\n",
       "      <th>bmi</th>\n",
       "      <th>children</th>\n",
       "      <th>smoker</th>\n",
       "      <th>region</th>\n",
       "      <th>charges</th>\n",
       "      <th>y_pred</th>\n",
       "    </tr>\n",
       "  </thead>\n",
       "  <tbody>\n",
       "    <tr>\n",
       "      <th>0</th>\n",
       "      <td>19</td>\n",
       "      <td>0</td>\n",
       "      <td>27.900</td>\n",
       "      <td>0</td>\n",
       "      <td>1</td>\n",
       "      <td>1</td>\n",
       "      <td>16884.92400</td>\n",
       "      <td>816</td>\n",
       "    </tr>\n",
       "    <tr>\n",
       "      <th>1</th>\n",
       "      <td>18</td>\n",
       "      <td>1</td>\n",
       "      <td>33.770</td>\n",
       "      <td>1</td>\n",
       "      <td>0</td>\n",
       "      <td>2</td>\n",
       "      <td>1725.55230</td>\n",
       "      <td>179</td>\n",
       "    </tr>\n",
       "    <tr>\n",
       "      <th>2</th>\n",
       "      <td>28</td>\n",
       "      <td>1</td>\n",
       "      <td>33.000</td>\n",
       "      <td>3</td>\n",
       "      <td>0</td>\n",
       "      <td>2</td>\n",
       "      <td>4449.46200</td>\n",
       "      <td>353</td>\n",
       "    </tr>\n",
       "    <tr>\n",
       "      <th>3</th>\n",
       "      <td>33</td>\n",
       "      <td>1</td>\n",
       "      <td>22.705</td>\n",
       "      <td>0</td>\n",
       "      <td>0</td>\n",
       "      <td>3</td>\n",
       "      <td>21984.47061</td>\n",
       "      <td>695</td>\n",
       "    </tr>\n",
       "    <tr>\n",
       "      <th>4</th>\n",
       "      <td>32</td>\n",
       "      <td>1</td>\n",
       "      <td>28.880</td>\n",
       "      <td>0</td>\n",
       "      <td>0</td>\n",
       "      <td>3</td>\n",
       "      <td>3866.85520</td>\n",
       "      <td>200</td>\n",
       "    </tr>\n",
       "  </tbody>\n",
       "</table>\n",
       "</div>"
      ],
      "text/plain": [
       "   age  sex     bmi  children  smoker  region      charges  y_pred\n",
       "0  19   0    27.900  0         1       1       16884.92400  816   \n",
       "1  18   1    33.770  1         0       2       1725.55230   179   \n",
       "2  28   1    33.000  3         0       2       4449.46200   353   \n",
       "3  33   1    22.705  0         0       3       21984.47061  695   \n",
       "4  32   1    28.880  0         0       3       3866.85520   200   "
      ]
     },
     "execution_count": 198,
     "metadata": {},
     "output_type": "execute_result"
    }
   ],
   "source": [
    "insuranceData.head()"
   ]
  },
  {
   "cell_type": "code",
   "execution_count": 199,
   "id": "a717cd8d",
   "metadata": {},
   "outputs": [
    {
     "data": {
      "text/plain": [
       "array([939, 579, 797, ..., 945, 840, 579], dtype=int64)"
      ]
     },
     "execution_count": 199,
     "metadata": {},
     "output_type": "execute_result"
    }
   ],
   "source": [
    "y_pred_train = LR.predict(x_train).round()\n",
    "y_pred_train"
   ]
  },
  {
   "cell_type": "code",
   "execution_count": 200,
   "id": "bddf9ccc",
   "metadata": {},
   "outputs": [
    {
     "data": {
      "text/plain": [
       "array([ 797,  939,  579,  698,  179, 1009,  579,  939,  112,  983,  939,\n",
       "        792,  411,  437,  797,  579,  695,  430,  579,  939,  579,  825,\n",
       "        503,  579,  816,  379,  593,  615,  358,  141,  579,  306,  945,\n",
       "        816, 1049,  579,  795,  296,  939,  843,  312,  939,  740,  579,\n",
       "        337,  939,  179,  797,  741,  945,  939,  792,  797,  620,  816,\n",
       "        253, 1047,  939,  179,  797,  170,  939,  816,  816,  939,  579,\n",
       "        679,  579,  816,  816, 1045,  803,  816,  793,  939,  579,  179,\n",
       "        141,  939,  579,  816,  792,  579,  797,  863,  972,  437,  901,\n",
       "        579,  464,  983, 1049,  929,  579,  797,  579,  579,  792,  939,\n",
       "        904,  939,  797, 1009,  816,  939,  816,  816,  579,  816,  939,\n",
       "        290,  228,  797,  793,  179,  797,  395,  939,  445,  816,  741,\n",
       "        593,  357,  471, 1050,  635,  793, 1019,  882,  524,  816,  179,\n",
       "        414,  986,  471,  816,  797,  816,  939,  861,  939,  474,  836,\n",
       "        939,  792,  579,  179,  559,  179,  408,  579,  179,  792,  579,\n",
       "        579,  404,  579,  579,  579,  797,  695, 1050,  579,  179,  387,\n",
       "        797,  849,  579,  939,  309,  358,  170,  939,  939,  816,  357,\n",
       "        179,  793,  170,  904,  939,  939,  741,  437,  816,  797,  816,\n",
       "        579,  471,  445,  781, 1045,  198,  816,  414,  741,  791,  816,\n",
       "        593,  579,  379,  464,  793,  411,  396,  816,  360,  437,  797,\n",
       "        939,  184,  579,  333,  228,  323, 1053,  579,  254,  797, 1041,\n",
       "        816,  939,  792,  353,  797,  797,  253,  816,  816,  939,  179,\n",
       "        793, 1045,  426,  792,  579,  859,  797,  579,  211,  579,  816,\n",
       "        579,  797,  579, 1045,  512,  579,  816,  939,  579,  211,  939,\n",
       "        694,  797,  816,  816,  854,  797,  579,  560,  579,  579,  867,\n",
       "       1021, 1045,  816,  309], dtype=int64)"
      ]
     },
     "execution_count": 200,
     "metadata": {},
     "output_type": "execute_result"
    }
   ],
   "source": [
    "y_pred_test = LR.predict(x_test)\n",
    "y_pred_test"
   ]
  },
  {
   "cell_type": "markdown",
   "id": "159986dd",
   "metadata": {},
   "source": [
    "# Model evaluation for LogisticRegression using MAE,MSE,RMSE"
   ]
  },
  {
   "cell_type": "code",
   "execution_count": 201,
   "id": "87b370d5",
   "metadata": {},
   "outputs": [
    {
     "data": {
      "text/plain": [
       "202.6411214953271"
      ]
     },
     "execution_count": 201,
     "metadata": {},
     "output_type": "execute_result"
    }
   ],
   "source": [
    "import sklearn.metrics as metrics\n",
    "LR_MAE_train = metrics.mean_absolute_error(y_train,y_pred_train)\n",
    "LR_MAE_train\n"
   ]
  },
  {
   "cell_type": "code",
   "execution_count": 202,
   "id": "0684edf8",
   "metadata": {},
   "outputs": [
    {
     "data": {
      "text/plain": [
       "12761.97427455224"
      ]
     },
     "execution_count": 202,
     "metadata": {},
     "output_type": "execute_result"
    }
   ],
   "source": [
    "LR_MAE_test = metrics.mean_absolute_error(y_test,y_pred_test)\n",
    "LR_MAE_test"
   ]
  },
  {
   "cell_type": "code",
   "execution_count": 203,
   "id": "e842a8b0",
   "metadata": {},
   "outputs": [
    {
     "name": "stdout",
     "output_type": "stream",
     "text": [
      "MAE for training data is 202.6411214953271\n",
      "MAE for test data is 12761.97427455224\n"
     ]
    }
   ],
   "source": [
    "print('MAE for training data is {}'.format(LR_MAE_train))\n",
    "print('MAE for test data is {}'.format(LR_MAE_test))"
   ]
  },
  {
   "cell_type": "code",
   "execution_count": 204,
   "id": "a046743f",
   "metadata": {},
   "outputs": [
    {
     "name": "stdout",
     "output_type": "stream",
     "text": [
      "MSE for training data is 102599.72336448598\n",
      "MSE for test data is 309658204.8403637\n"
     ]
    }
   ],
   "source": [
    "LR_MSE_train = metrics.mean_squared_error(y_train,y_pred_train)\n",
    "LR_MSE_test = metrics.mean_squared_error(y_test,y_pred_test)\n",
    "print('MSE for training data is {}'.format(LR_MSE_train))\n",
    "print('MSE for test data is {}'.format(LR_MSE_test))"
   ]
  },
  {
   "cell_type": "code",
   "execution_count": 205,
   "id": "3186ce49",
   "metadata": {},
   "outputs": [
    {
     "name": "stdout",
     "output_type": "stream",
     "text": [
      "RMSE for training data is 320.3119157391526\n",
      "RMSE for test data is 17597.107854427773\n"
     ]
    }
   ],
   "source": [
    "LR_RMSE_train = np.sqrt(metrics.mean_squared_error(y_train,y_pred_train))\n",
    "LR_RMSE_test = np.sqrt(metrics.mean_squared_error(y_test,y_pred_test))\n",
    "print('RMSE for training data is {}'.format(LR_RMSE_train))\n",
    "print('RMSE for test data is {}'.format(LR_RMSE_test))"
   ]
  },
  {
   "cell_type": "markdown",
   "id": "f5d1ebbf",
   "metadata": {},
   "source": [
    "# compairing both models"
   ]
  },
  {
   "cell_type": "code",
   "execution_count": 206,
   "id": "0892f8ba",
   "metadata": {},
   "outputs": [
    {
     "name": "stdout",
     "output_type": "stream",
     "text": [
      "MAE of train data  based on  knn model is 163.12429906542056\n",
      "MAE of train data based on logistica regression is 202.6411214953271\n"
     ]
    }
   ],
   "source": [
    "print('MAE of train data  based on  knn model is {}'.format(knn_MAE_train))\n",
    "print('MAE of train data based on logistica regression is {}'.format(LR_MAE_train))"
   ]
  },
  {
   "cell_type": "markdown",
   "id": "c0e9435a",
   "metadata": {},
   "source": [
    "### Based on the results, we can see that the KNN model had a lower MAE of 163.12 on the training data compared to the Logistic Regression model, which had a higher MAE of 202.64. This suggests that, on average, the KNN model's predictions were closer to the actual values in the training dataset than the Logistic Regression model's predictions."
   ]
  },
  {
   "cell_type": "code",
   "execution_count": 207,
   "id": "8af617e8",
   "metadata": {},
   "outputs": [
    {
     "name": "stdout",
     "output_type": "stream",
     "text": [
      "MAE of test data based on knn model is 13045.530244701493\n",
      "MAE of test data based on logistica regression is 12761.97427455224\n"
     ]
    }
   ],
   "source": [
    "print('MAE of test data based on knn model is {}'.format(knn_MAE_test))\n",
    "print('MAE of test data based on logistica regression is {}'.format(LR_MAE_test))"
   ]
  },
  {
   "cell_type": "markdown",
   "id": "93624de1",
   "metadata": {},
   "source": [
    "### Moving on to the test dataset, we can see that the KNN model has a higher MAE of 13045.53 compared to the Logistic Regression model, which has a slightly lower MAE of 12761.97. This implies that, on average, the Logistic Regression model performed better than the KNN model on the test data."
   ]
  },
  {
   "cell_type": "code",
   "execution_count": null,
   "id": "8437db88",
   "metadata": {},
   "outputs": [],
   "source": []
  },
  {
   "cell_type": "markdown",
   "id": "f9bd6b08",
   "metadata": {},
   "source": [
    "# NOTE:However, it's worth noting that the MAE values are only one aspect of evaluating the performance of the models. Other metrics, such as precision, recall, accuracy, or F1 score, should also be considered to have a comprehensive understanding of the models' performance. Additionally, it would be beneficial to compare the models' results with other models to determine the best performing model on this dataset."
   ]
  },
  {
   "cell_type": "code",
   "execution_count": null,
   "id": "22dc14fb",
   "metadata": {},
   "outputs": [],
   "source": []
  }
 ],
 "metadata": {
  "kernelspec": {
   "display_name": "Python 3 (ipykernel)",
   "language": "python",
   "name": "python3"
  },
  "language_info": {
   "codemirror_mode": {
    "name": "ipython",
    "version": 3
   },
   "file_extension": ".py",
   "mimetype": "text/x-python",
   "name": "python",
   "nbconvert_exporter": "python",
   "pygments_lexer": "ipython3",
   "version": "3.9.13"
  }
 },
 "nbformat": 4,
 "nbformat_minor": 5
}
